{
 "cells": [
  {
   "cell_type": "code",
   "execution_count": 4,
   "id": "e373cadb",
   "metadata": {},
   "outputs": [
    {
     "name": "stdout",
     "output_type": "stream",
     "text": [
      "Password Picker\n",
      "beautifulcollege93<\n"
     ]
    }
   ],
   "source": [
    "import random\n",
    "sam_adj=['beautiful','nice','smart','brilliant','bad','clever','brave','adorable','charming','bright']\n",
    "sam_noun=['kid','flower','phone','cat','pen','table','toy','book','light','ram','USA','Kerala','college']\n",
    "sam_no=random.randint(1,100)\n",
    "sam_pun=['%','&','^','$','*','(',')',':''>','<',';','/','?']\n",
    "\n",
    "adjectve=random.choice(sam_adj)\n",
    "noun=random.choice(sam_noun)\n",
    "number=str(sam_no)\n",
    "punctuation=random.choice(sam_pun)\n",
    "\n",
    "password=adjectve+noun+number+punctuation\n",
    "print(\"Password Picker\")\n",
    "print(password)"
   ]
  },
  {
   "cell_type": "code",
   "execution_count": null,
   "id": "07b37565",
   "metadata": {},
   "outputs": [],
   "source": []
  }
 ],
 "metadata": {
  "kernelspec": {
   "display_name": "Python 3",
   "language": "python",
   "name": "python3"
  },
  "language_info": {
   "codemirror_mode": {
    "name": "ipython",
    "version": 3
   },
   "file_extension": ".py",
   "mimetype": "text/x-python",
   "name": "python",
   "nbconvert_exporter": "python",
   "pygments_lexer": "ipython3",
   "version": "3.8.8"
  }
 },
 "nbformat": 4,
 "nbformat_minor": 5
}
